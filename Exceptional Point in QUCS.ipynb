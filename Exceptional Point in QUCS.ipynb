{
 "cells": [
  {
   "cell_type": "code",
   "execution_count": 54,
   "metadata": {},
   "outputs": [],
   "source": [
    "import numpy as np\n",
    "import matplotlib.pyplot as plt\n",
    "import parse_result as pr\n",
    "from ipywidgets import interact"
   ]
  },
  {
   "cell_type": "code",
   "execution_count": 77,
   "metadata": {},
   "outputs": [
    {
     "name": "stdout",
     "output_type": "stream",
     "text": [
      "dict_keys(['R2', 'R1', 'L1', 'f1', 'C', 'acfrequency', 'Delta', 'Cc', 'L2', 'f2', 'Pr2.v', 'Pr3.v', '_net0.v', '_net1.v', 'variables'])\n",
      "(10, 500, 500)\n"
     ]
    }
   ],
   "source": [
    "plt.rcParams['figure.dpi'] = 100\n",
    "plt.rcParams['figure.figsize'] = (12,6)\n",
    "\n",
    "data = pr.parse_file('exceptional_point.dat')\n",
    "\n",
    "print(data.keys())\n",
    "print(data['Pr2.v'].shape)"
   ]
  },
  {
   "cell_type": "code",
   "execution_count": 78,
   "metadata": {
    "hide_input": true,
    "scrolled": false
   },
   "outputs": [
    {
     "data": {
      "application/vnd.jupyter.widget-view+json": {
       "model_id": "095ceec413c04bf386ec146fdbd4a876",
       "version_major": 2,
       "version_minor": 0
      },
      "text/plain": [
       "interactive(children=(IntSlider(value=0, description='i', max=9), Output()), _dom_classes=('widget-interact',)…"
      ]
     },
     "metadata": {},
     "output_type": "display_data"
    },
    {
     "data": {
      "text/plain": [
       "<function __main__.update(i=0)>"
      ]
     },
     "execution_count": 78,
     "metadata": {},
     "output_type": "execute_result"
    }
   ],
   "source": [
    "def update(i=0):\n",
    "    plt.subplots(figsize=(12,7))\n",
    "    plt.subplot(221)\n",
    "    plt.imshow(np.real(data['Pr2.v'][i,:,:]), aspect='auto')\n",
    "    plt.subplot(222)\n",
    "    plt.imshow(np.real(data['Pr3.v'][i,:,:]), aspect='auto')\n",
    "    plt.subplot(223)\n",
    "    plt.imshow(np.imag(data['Pr2.v'][i,:,:]), aspect='auto')\n",
    "    plt.subplot(224)\n",
    "    plt.imshow(np.imag(data['Pr3.v'][i,:,:]), aspect='auto')\n",
    "    plt.show()\n",
    "    \n",
    "interact(update, i=(0,9,1))"
   ]
  },
  {
   "cell_type": "code",
   "execution_count": 79,
   "metadata": {
    "hide_input": true
   },
   "outputs": [
    {
     "data": {
      "application/vnd.jupyter.widget-view+json": {
       "model_id": "4ee36bab628a46eab64bea25a7be4ffa",
       "version_major": 2,
       "version_minor": 0
      },
      "text/plain": [
       "interactive(children=(IntSlider(value=0, description='i', max=9), IntSlider(value=200, description='j', max=49…"
      ]
     },
     "metadata": {},
     "output_type": "display_data"
    },
    {
     "data": {
      "text/plain": [
       "<function __main__.update2(i=0, j=200)>"
      ]
     },
     "execution_count": 79,
     "metadata": {},
     "output_type": "execute_result"
    }
   ],
   "source": [
    "def update2(i=0,j=200):\n",
    "    plt.subplot(211)\n",
    "    plt.plot(np.real(data['Pr2.v'][i,j,:]))\n",
    "    plt.plot(np.real(data['Pr3.v'][i,j,:]))\n",
    "    plt.subplot(212)\n",
    "    plt.plot(np.imag(data['Pr2.v'][i,j,:]))\n",
    "    plt.plot(np.imag(data['Pr3.v'][i,j,:]))\n",
    "    plt.axhline(0,ls=\":\",c=\"grey\")\n",
    "    plt.show()\n",
    "\n",
    "interact(update2,i=(0,9), j=(0,499))"
   ]
  },
  {
   "cell_type": "code",
   "execution_count": null,
   "metadata": {},
   "outputs": [],
   "source": []
  }
 ],
 "metadata": {
  "kernelspec": {
   "display_name": "Python 3",
   "language": "python",
   "name": "python3"
  },
  "language_info": {
   "codemirror_mode": {
    "name": "ipython",
    "version": 3
   },
   "file_extension": ".py",
   "mimetype": "text/x-python",
   "name": "python",
   "nbconvert_exporter": "python",
   "pygments_lexer": "ipython3",
   "version": "3.7.1"
  }
 },
 "nbformat": 4,
 "nbformat_minor": 2
}
